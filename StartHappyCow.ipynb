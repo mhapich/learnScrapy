{
 "cells": [
  {
   "cell_type": "code",
   "execution_count": 1,
   "id": "4925a446",
   "metadata": {},
   "outputs": [
    {
     "data": {
      "text/plain": [
       "'3.9.7'"
      ]
     },
     "execution_count": 1,
     "metadata": {},
     "output_type": "execute_result"
    }
   ],
   "source": [
    "# Settings for notebook\n",
    "from IPython.core.interactiveshell import InteractiveShell\n",
    "InteractiveShell.ast_node_interactivity = \"all\"\n",
    "# Show Python version\n",
    "import platform\n",
    "platform.python_version()"
   ]
  },
  {
   "cell_type": "markdown",
   "id": "b938203d",
   "metadata": {},
   "source": [
    "### Import Scrapy"
   ]
  },
  {
   "cell_type": "code",
   "execution_count": 2,
   "id": "eedcf47b",
   "metadata": {},
   "outputs": [],
   "source": [
    "try:\n",
    "    import scrapy\n",
    "except:\n",
    "    !pip install scrapy\n",
    "    import scrapy\n",
    "from scrapy.crawler import CrawlerProcess"
   ]
  },
  {
   "cell_type": "markdown",
   "id": "786c2e4e",
   "metadata": {},
   "source": [
    "### Set up a pipeline"
   ]
  },
  {
   "cell_type": "code",
   "execution_count": 3,
   "id": "d63ba3f8",
   "metadata": {},
   "outputs": [],
   "source": [
    "import json\n",
    "\n",
    "class JsonWriterPipeline(object):\n",
    "\n",
    "    def open_spider(self, spider):\n",
    "        self.file = open('quoteresult.jl', 'w')\n",
    "\n",
    "    def close_spider(self, spider):\n",
    "        self.file.close()\n",
    "\n",
    "    def process_item(self, item, spider):\n",
    "        line = json.dumps(dict(item)) + \"\\n\"\n",
    "        self.file.write(line)\n",
    "        return item"
   ]
  },
  {
   "cell_type": "markdown",
   "id": "a077a4f5",
   "metadata": {},
   "source": [
    "### Define the spider"
   ]
  },
  {
   "cell_type": "code",
   "execution_count": 4,
   "id": "8368efcd",
   "metadata": {},
   "outputs": [],
   "source": [
    "import logging\n",
    "\n",
    "class QuotesSpider(scrapy.Spider):\n",
    "    name = \"quotes\"\n",
    "    start_urls = [\n",
    "        'http://quotes.toscrape.com/page/1/',\n",
    "        'http://quotes.toscrape.com/page/2/',\n",
    "    ]\n",
    "    custom_settings = {\n",
    "        'LOG_LEVEL': logging.WARNING,\n",
    "        'ITEM_PIPELINES': {'__main__.JsonWriterPipeline': 1}, # Used for pipeline 1\n",
    "        'FEED_FORMAT':'json',                                 # Used for pipeline 2\n",
    "        'FEED_URI': 'quoteresult.json'                        # Used for pipeline 2\n",
    "    }\n",
    "    \n",
    "    def parse(self, response):\n",
    "        for quote in response.css('div.quote'):\n",
    "            yield {\n",
    "                'text': quote.css('span.text::text').extract_first(),\n",
    "                'author': quote.css('span small::text').extract_first(),\n",
    "                'tags': quote.css('div.tags a.tag::text').extract(),\n",
    "            }"
   ]
  },
  {
   "cell_type": "markdown",
   "id": "37e3987f",
   "metadata": {},
   "source": [
    "### Start the crawler"
   ]
  },
  {
   "cell_type": "code",
   "execution_count": 5,
   "id": "480d0196",
   "metadata": {},
   "outputs": [
    {
     "name": "stderr",
     "output_type": "stream",
     "text": [
      "2022-09-15 20:44:05 [scrapy.utils.log] INFO: Scrapy 2.6.2 started (bot: scrapybot)\n",
      "2022-09-15 20:44:05 [scrapy.utils.log] INFO: Versions: lxml 4.9.1.0, libxml2 2.9.14, cssselect 1.1.0, parsel 1.6.0, w3lib 1.21.0, Twisted 22.2.0, Python 3.9.7 (default, Sep 16 2021, 08:50:36) - [Clang 10.0.0 ], pyOpenSSL 22.0.0 (OpenSSL 1.1.1q  5 Jul 2022), cryptography 37.0.1, Platform macOS-10.16-x86_64-i386-64bit\n",
      "2022-09-15 20:44:05 [scrapy.crawler] INFO: Overridden settings:\n",
      "{'LOG_LEVEL': 30,\n",
      " 'USER_AGENT': 'Mozilla/4.0 (compatible; MSIE 7.0; Windows NT 5.1)'}\n",
      "2022-09-15 20:44:05 [py.warnings] WARNING: /Users/mhapich/opt/anaconda3/lib/python3.9/site-packages/scrapy/extensions/feedexport.py:289: ScrapyDeprecationWarning: The `FEED_URI` and `FEED_FORMAT` settings have been deprecated in favor of the `FEEDS` setting. Please see the `FEEDS` setting docs for more details\n",
      "  exporter = cls(crawler)\n",
      "\n"
     ]
    },
    {
     "data": {
      "text/plain": [
       "<Deferred at 0x7f7bf3c82190>"
      ]
     },
     "execution_count": 5,
     "metadata": {},
     "output_type": "execute_result"
    }
   ],
   "source": [
    "process = CrawlerProcess({\n",
    "    'USER_AGENT': 'Mozilla/4.0 (compatible; MSIE 7.0; Windows NT 5.1)'\n",
    "})\n",
    "\n",
    "process.crawl(QuotesSpider)\n",
    "process.start()"
   ]
  },
  {
   "cell_type": "markdown",
   "id": "d34cf780",
   "metadata": {},
   "source": [
    "### Check the files"
   ]
  },
  {
   "cell_type": "code",
   "execution_count": 6,
   "id": "80ca0fbf",
   "metadata": {},
   "outputs": [
    {
     "name": "stdout",
     "output_type": "stream",
     "text": [
      "-rw-r--r--  1 mhapich  staff  5551 Sep 15 20:44 quoteresult.jl\r\n",
      "-rw-r--r--  1 mhapich  staff  5573 Sep 15 20:44 quoteresult.json\r\n"
     ]
    }
   ],
   "source": [
    "ll quoteresult.*"
   ]
  },
  {
   "cell_type": "code",
   "execution_count": 7,
   "id": "731e743e",
   "metadata": {},
   "outputs": [
    {
     "name": "stdout",
     "output_type": "stream",
     "text": [
      "{\"text\": \"\\u201cA woman is like a tea bag; you never know how strong it is until it's in hot water.\\u201d\", \"author\": \"Eleanor Roosevelt\", \"tags\": [\"misattributed-eleanor-roosevelt\"]}\r\n",
      "{\"text\": \"\\u201cA day without sunshine is like, you know, night.\\u201d\", \"author\": \"Steve Martin\", \"tags\": [\"humor\", \"obvious\", \"simile\"]}\r\n"
     ]
    }
   ],
   "source": [
    "!tail -n 2 quoteresult.jl"
   ]
  },
  {
   "cell_type": "code",
   "execution_count": 8,
   "id": "896428c5",
   "metadata": {},
   "outputs": [
    {
     "name": "stdout",
     "output_type": "stream",
     "text": [
      "{\"text\": \"\\u201cA day without sunshine is like, you know, night.\\u201d\", \"author\": \"Steve Martin\", \"tags\": [\"humor\", \"obvious\", \"simile\"]}\r\n",
      "]"
     ]
    }
   ],
   "source": [
    "!tail -n 2 quoteresult.json"
   ]
  },
  {
   "cell_type": "markdown",
   "id": "a6492878",
   "metadata": {},
   "source": [
    "### Create dataframes"
   ]
  },
  {
   "cell_type": "code",
   "execution_count": 9,
   "id": "f72792ce",
   "metadata": {},
   "outputs": [
    {
     "data": {
      "text/html": [
       "<div>\n",
       "<style scoped>\n",
       "    .dataframe tbody tr th:only-of-type {\n",
       "        vertical-align: middle;\n",
       "    }\n",
       "\n",
       "    .dataframe tbody tr th {\n",
       "        vertical-align: top;\n",
       "    }\n",
       "\n",
       "    .dataframe thead th {\n",
       "        text-align: right;\n",
       "    }\n",
       "</style>\n",
       "<table border=\"1\" class=\"dataframe\">\n",
       "  <thead>\n",
       "    <tr style=\"text-align: right;\">\n",
       "      <th></th>\n",
       "      <th>text</th>\n",
       "      <th>author</th>\n",
       "      <th>tags</th>\n",
       "    </tr>\n",
       "  </thead>\n",
       "  <tbody>\n",
       "    <tr>\n",
       "      <th>0</th>\n",
       "      <td>“This life is what you make it. No matter what...</td>\n",
       "      <td>Marilyn Monroe</td>\n",
       "      <td>[friends, heartbreak, inspirational, life, lov...</td>\n",
       "    </tr>\n",
       "    <tr>\n",
       "      <th>1</th>\n",
       "      <td>“It takes a great deal of bravery to stand up ...</td>\n",
       "      <td>J.K. Rowling</td>\n",
       "      <td>[courage, friends]</td>\n",
       "    </tr>\n",
       "    <tr>\n",
       "      <th>2</th>\n",
       "      <td>“If you can't explain it to a six year old, yo...</td>\n",
       "      <td>Albert Einstein</td>\n",
       "      <td>[simplicity, understand]</td>\n",
       "    </tr>\n",
       "    <tr>\n",
       "      <th>3</th>\n",
       "      <td>“You may not be her first, her last, or her on...</td>\n",
       "      <td>Bob Marley</td>\n",
       "      <td>[love]</td>\n",
       "    </tr>\n",
       "    <tr>\n",
       "      <th>4</th>\n",
       "      <td>“I like nonsense, it wakes up the brain cells....</td>\n",
       "      <td>Dr. Seuss</td>\n",
       "      <td>[fantasy]</td>\n",
       "    </tr>\n",
       "    <tr>\n",
       "      <th>5</th>\n",
       "      <td>“I may not have gone where I intended to go, b...</td>\n",
       "      <td>Douglas Adams</td>\n",
       "      <td>[life, navigation]</td>\n",
       "    </tr>\n",
       "    <tr>\n",
       "      <th>6</th>\n",
       "      <td>“The opposite of love is not hate, it's indiff...</td>\n",
       "      <td>Elie Wiesel</td>\n",
       "      <td>[activism, apathy, hate, indifference, inspira...</td>\n",
       "    </tr>\n",
       "    <tr>\n",
       "      <th>7</th>\n",
       "      <td>“It is not a lack of love, but a lack of frien...</td>\n",
       "      <td>Friedrich Nietzsche</td>\n",
       "      <td>[friendship, lack-of-friendship, lack-of-love,...</td>\n",
       "    </tr>\n",
       "    <tr>\n",
       "      <th>8</th>\n",
       "      <td>“Good friends, good books, and a sleepy consci...</td>\n",
       "      <td>Mark Twain</td>\n",
       "      <td>[books, contentment, friends, friendship, life]</td>\n",
       "    </tr>\n",
       "    <tr>\n",
       "      <th>9</th>\n",
       "      <td>“Life is what happens to us while we are makin...</td>\n",
       "      <td>Allen Saunders</td>\n",
       "      <td>[fate, life, misattributed-john-lennon, planni...</td>\n",
       "    </tr>\n",
       "    <tr>\n",
       "      <th>10</th>\n",
       "      <td>“The world as we have created it is a process ...</td>\n",
       "      <td>Albert Einstein</td>\n",
       "      <td>[change, deep-thoughts, thinking, world]</td>\n",
       "    </tr>\n",
       "    <tr>\n",
       "      <th>11</th>\n",
       "      <td>“It is our choices, Harry, that show what we t...</td>\n",
       "      <td>J.K. Rowling</td>\n",
       "      <td>[abilities, choices]</td>\n",
       "    </tr>\n",
       "    <tr>\n",
       "      <th>12</th>\n",
       "      <td>“There are only two ways to live your life. On...</td>\n",
       "      <td>Albert Einstein</td>\n",
       "      <td>[inspirational, life, live, miracle, miracles]</td>\n",
       "    </tr>\n",
       "    <tr>\n",
       "      <th>13</th>\n",
       "      <td>“The person, be it gentleman or lady, who has ...</td>\n",
       "      <td>Jane Austen</td>\n",
       "      <td>[aliteracy, books, classic, humor]</td>\n",
       "    </tr>\n",
       "    <tr>\n",
       "      <th>14</th>\n",
       "      <td>“Imperfection is beauty, madness is genius and...</td>\n",
       "      <td>Marilyn Monroe</td>\n",
       "      <td>[be-yourself, inspirational]</td>\n",
       "    </tr>\n",
       "    <tr>\n",
       "      <th>15</th>\n",
       "      <td>“Try not to become a man of success. Rather be...</td>\n",
       "      <td>Albert Einstein</td>\n",
       "      <td>[adulthood, success, value]</td>\n",
       "    </tr>\n",
       "    <tr>\n",
       "      <th>16</th>\n",
       "      <td>“It is better to be hated for what you are tha...</td>\n",
       "      <td>André Gide</td>\n",
       "      <td>[life, love]</td>\n",
       "    </tr>\n",
       "    <tr>\n",
       "      <th>17</th>\n",
       "      <td>“I have not failed. I've just found 10,000 way...</td>\n",
       "      <td>Thomas A. Edison</td>\n",
       "      <td>[edison, failure, inspirational, paraphrased]</td>\n",
       "    </tr>\n",
       "    <tr>\n",
       "      <th>18</th>\n",
       "      <td>“A woman is like a tea bag; you never know how...</td>\n",
       "      <td>Eleanor Roosevelt</td>\n",
       "      <td>[misattributed-eleanor-roosevelt]</td>\n",
       "    </tr>\n",
       "    <tr>\n",
       "      <th>19</th>\n",
       "      <td>“A day without sunshine is like, you know, nig...</td>\n",
       "      <td>Steve Martin</td>\n",
       "      <td>[humor, obvious, simile]</td>\n",
       "    </tr>\n",
       "  </tbody>\n",
       "</table>\n",
       "</div>"
      ],
      "text/plain": [
       "                                                 text               author  \\\n",
       "0   “This life is what you make it. No matter what...       Marilyn Monroe   \n",
       "1   “It takes a great deal of bravery to stand up ...         J.K. Rowling   \n",
       "2   “If you can't explain it to a six year old, yo...      Albert Einstein   \n",
       "3   “You may not be her first, her last, or her on...           Bob Marley   \n",
       "4   “I like nonsense, it wakes up the brain cells....            Dr. Seuss   \n",
       "5   “I may not have gone where I intended to go, b...        Douglas Adams   \n",
       "6   “The opposite of love is not hate, it's indiff...          Elie Wiesel   \n",
       "7   “It is not a lack of love, but a lack of frien...  Friedrich Nietzsche   \n",
       "8   “Good friends, good books, and a sleepy consci...           Mark Twain   \n",
       "9   “Life is what happens to us while we are makin...       Allen Saunders   \n",
       "10  “The world as we have created it is a process ...      Albert Einstein   \n",
       "11  “It is our choices, Harry, that show what we t...         J.K. Rowling   \n",
       "12  “There are only two ways to live your life. On...      Albert Einstein   \n",
       "13  “The person, be it gentleman or lady, who has ...          Jane Austen   \n",
       "14  “Imperfection is beauty, madness is genius and...       Marilyn Monroe   \n",
       "15  “Try not to become a man of success. Rather be...      Albert Einstein   \n",
       "16  “It is better to be hated for what you are tha...           André Gide   \n",
       "17  “I have not failed. I've just found 10,000 way...     Thomas A. Edison   \n",
       "18  “A woman is like a tea bag; you never know how...    Eleanor Roosevelt   \n",
       "19  “A day without sunshine is like, you know, nig...         Steve Martin   \n",
       "\n",
       "                                                 tags  \n",
       "0   [friends, heartbreak, inspirational, life, lov...  \n",
       "1                                  [courage, friends]  \n",
       "2                            [simplicity, understand]  \n",
       "3                                              [love]  \n",
       "4                                           [fantasy]  \n",
       "5                                  [life, navigation]  \n",
       "6   [activism, apathy, hate, indifference, inspira...  \n",
       "7   [friendship, lack-of-friendship, lack-of-love,...  \n",
       "8     [books, contentment, friends, friendship, life]  \n",
       "9   [fate, life, misattributed-john-lennon, planni...  \n",
       "10           [change, deep-thoughts, thinking, world]  \n",
       "11                               [abilities, choices]  \n",
       "12     [inspirational, life, live, miracle, miracles]  \n",
       "13                 [aliteracy, books, classic, humor]  \n",
       "14                       [be-yourself, inspirational]  \n",
       "15                        [adulthood, success, value]  \n",
       "16                                       [life, love]  \n",
       "17      [edison, failure, inspirational, paraphrased]  \n",
       "18                  [misattributed-eleanor-roosevelt]  \n",
       "19                           [humor, obvious, simile]  "
      ]
     },
     "execution_count": 9,
     "metadata": {},
     "output_type": "execute_result"
    }
   ],
   "source": [
    "import pandas as pd\n",
    "dfjson = pd.read_json('quoteresult.json')\n",
    "dfjson"
   ]
  },
  {
   "cell_type": "code",
   "execution_count": 10,
   "id": "6df76cd5",
   "metadata": {},
   "outputs": [
    {
     "data": {
      "text/html": [
       "<div>\n",
       "<style scoped>\n",
       "    .dataframe tbody tr th:only-of-type {\n",
       "        vertical-align: middle;\n",
       "    }\n",
       "\n",
       "    .dataframe tbody tr th {\n",
       "        vertical-align: top;\n",
       "    }\n",
       "\n",
       "    .dataframe thead th {\n",
       "        text-align: right;\n",
       "    }\n",
       "</style>\n",
       "<table border=\"1\" class=\"dataframe\">\n",
       "  <thead>\n",
       "    <tr style=\"text-align: right;\">\n",
       "      <th></th>\n",
       "      <th>text</th>\n",
       "      <th>author</th>\n",
       "      <th>tags</th>\n",
       "    </tr>\n",
       "  </thead>\n",
       "  <tbody>\n",
       "    <tr>\n",
       "      <th>0</th>\n",
       "      <td>“This life is what you make it. No matter what...</td>\n",
       "      <td>Marilyn Monroe</td>\n",
       "      <td>[friends, heartbreak, inspirational, life, lov...</td>\n",
       "    </tr>\n",
       "    <tr>\n",
       "      <th>1</th>\n",
       "      <td>“It takes a great deal of bravery to stand up ...</td>\n",
       "      <td>J.K. Rowling</td>\n",
       "      <td>[courage, friends]</td>\n",
       "    </tr>\n",
       "    <tr>\n",
       "      <th>2</th>\n",
       "      <td>“If you can't explain it to a six year old, yo...</td>\n",
       "      <td>Albert Einstein</td>\n",
       "      <td>[simplicity, understand]</td>\n",
       "    </tr>\n",
       "    <tr>\n",
       "      <th>3</th>\n",
       "      <td>“You may not be her first, her last, or her on...</td>\n",
       "      <td>Bob Marley</td>\n",
       "      <td>[love]</td>\n",
       "    </tr>\n",
       "    <tr>\n",
       "      <th>4</th>\n",
       "      <td>“I like nonsense, it wakes up the brain cells....</td>\n",
       "      <td>Dr. Seuss</td>\n",
       "      <td>[fantasy]</td>\n",
       "    </tr>\n",
       "    <tr>\n",
       "      <th>5</th>\n",
       "      <td>“I may not have gone where I intended to go, b...</td>\n",
       "      <td>Douglas Adams</td>\n",
       "      <td>[life, navigation]</td>\n",
       "    </tr>\n",
       "    <tr>\n",
       "      <th>6</th>\n",
       "      <td>“The opposite of love is not hate, it's indiff...</td>\n",
       "      <td>Elie Wiesel</td>\n",
       "      <td>[activism, apathy, hate, indifference, inspira...</td>\n",
       "    </tr>\n",
       "    <tr>\n",
       "      <th>7</th>\n",
       "      <td>“It is not a lack of love, but a lack of frien...</td>\n",
       "      <td>Friedrich Nietzsche</td>\n",
       "      <td>[friendship, lack-of-friendship, lack-of-love,...</td>\n",
       "    </tr>\n",
       "    <tr>\n",
       "      <th>8</th>\n",
       "      <td>“Good friends, good books, and a sleepy consci...</td>\n",
       "      <td>Mark Twain</td>\n",
       "      <td>[books, contentment, friends, friendship, life]</td>\n",
       "    </tr>\n",
       "    <tr>\n",
       "      <th>9</th>\n",
       "      <td>“Life is what happens to us while we are makin...</td>\n",
       "      <td>Allen Saunders</td>\n",
       "      <td>[fate, life, misattributed-john-lennon, planni...</td>\n",
       "    </tr>\n",
       "    <tr>\n",
       "      <th>10</th>\n",
       "      <td>“The world as we have created it is a process ...</td>\n",
       "      <td>Albert Einstein</td>\n",
       "      <td>[change, deep-thoughts, thinking, world]</td>\n",
       "    </tr>\n",
       "    <tr>\n",
       "      <th>11</th>\n",
       "      <td>“It is our choices, Harry, that show what we t...</td>\n",
       "      <td>J.K. Rowling</td>\n",
       "      <td>[abilities, choices]</td>\n",
       "    </tr>\n",
       "    <tr>\n",
       "      <th>12</th>\n",
       "      <td>“There are only two ways to live your life. On...</td>\n",
       "      <td>Albert Einstein</td>\n",
       "      <td>[inspirational, life, live, miracle, miracles]</td>\n",
       "    </tr>\n",
       "    <tr>\n",
       "      <th>13</th>\n",
       "      <td>“The person, be it gentleman or lady, who has ...</td>\n",
       "      <td>Jane Austen</td>\n",
       "      <td>[aliteracy, books, classic, humor]</td>\n",
       "    </tr>\n",
       "    <tr>\n",
       "      <th>14</th>\n",
       "      <td>“Imperfection is beauty, madness is genius and...</td>\n",
       "      <td>Marilyn Monroe</td>\n",
       "      <td>[be-yourself, inspirational]</td>\n",
       "    </tr>\n",
       "    <tr>\n",
       "      <th>15</th>\n",
       "      <td>“Try not to become a man of success. Rather be...</td>\n",
       "      <td>Albert Einstein</td>\n",
       "      <td>[adulthood, success, value]</td>\n",
       "    </tr>\n",
       "    <tr>\n",
       "      <th>16</th>\n",
       "      <td>“It is better to be hated for what you are tha...</td>\n",
       "      <td>André Gide</td>\n",
       "      <td>[life, love]</td>\n",
       "    </tr>\n",
       "    <tr>\n",
       "      <th>17</th>\n",
       "      <td>“I have not failed. I've just found 10,000 way...</td>\n",
       "      <td>Thomas A. Edison</td>\n",
       "      <td>[edison, failure, inspirational, paraphrased]</td>\n",
       "    </tr>\n",
       "    <tr>\n",
       "      <th>18</th>\n",
       "      <td>“A woman is like a tea bag; you never know how...</td>\n",
       "      <td>Eleanor Roosevelt</td>\n",
       "      <td>[misattributed-eleanor-roosevelt]</td>\n",
       "    </tr>\n",
       "    <tr>\n",
       "      <th>19</th>\n",
       "      <td>“A day without sunshine is like, you know, nig...</td>\n",
       "      <td>Steve Martin</td>\n",
       "      <td>[humor, obvious, simile]</td>\n",
       "    </tr>\n",
       "  </tbody>\n",
       "</table>\n",
       "</div>"
      ],
      "text/plain": [
       "                                                 text               author  \\\n",
       "0   “This life is what you make it. No matter what...       Marilyn Monroe   \n",
       "1   “It takes a great deal of bravery to stand up ...         J.K. Rowling   \n",
       "2   “If you can't explain it to a six year old, yo...      Albert Einstein   \n",
       "3   “You may not be her first, her last, or her on...           Bob Marley   \n",
       "4   “I like nonsense, it wakes up the brain cells....            Dr. Seuss   \n",
       "5   “I may not have gone where I intended to go, b...        Douglas Adams   \n",
       "6   “The opposite of love is not hate, it's indiff...          Elie Wiesel   \n",
       "7   “It is not a lack of love, but a lack of frien...  Friedrich Nietzsche   \n",
       "8   “Good friends, good books, and a sleepy consci...           Mark Twain   \n",
       "9   “Life is what happens to us while we are makin...       Allen Saunders   \n",
       "10  “The world as we have created it is a process ...      Albert Einstein   \n",
       "11  “It is our choices, Harry, that show what we t...         J.K. Rowling   \n",
       "12  “There are only two ways to live your life. On...      Albert Einstein   \n",
       "13  “The person, be it gentleman or lady, who has ...          Jane Austen   \n",
       "14  “Imperfection is beauty, madness is genius and...       Marilyn Monroe   \n",
       "15  “Try not to become a man of success. Rather be...      Albert Einstein   \n",
       "16  “It is better to be hated for what you are tha...           André Gide   \n",
       "17  “I have not failed. I've just found 10,000 way...     Thomas A. Edison   \n",
       "18  “A woman is like a tea bag; you never know how...    Eleanor Roosevelt   \n",
       "19  “A day without sunshine is like, you know, nig...         Steve Martin   \n",
       "\n",
       "                                                 tags  \n",
       "0   [friends, heartbreak, inspirational, life, lov...  \n",
       "1                                  [courage, friends]  \n",
       "2                            [simplicity, understand]  \n",
       "3                                              [love]  \n",
       "4                                           [fantasy]  \n",
       "5                                  [life, navigation]  \n",
       "6   [activism, apathy, hate, indifference, inspira...  \n",
       "7   [friendship, lack-of-friendship, lack-of-love,...  \n",
       "8     [books, contentment, friends, friendship, life]  \n",
       "9   [fate, life, misattributed-john-lennon, planni...  \n",
       "10           [change, deep-thoughts, thinking, world]  \n",
       "11                               [abilities, choices]  \n",
       "12     [inspirational, life, live, miracle, miracles]  \n",
       "13                 [aliteracy, books, classic, humor]  \n",
       "14                       [be-yourself, inspirational]  \n",
       "15                        [adulthood, success, value]  \n",
       "16                                       [life, love]  \n",
       "17      [edison, failure, inspirational, paraphrased]  \n",
       "18                  [misattributed-eleanor-roosevelt]  \n",
       "19                           [humor, obvious, simile]  "
      ]
     },
     "execution_count": 10,
     "metadata": {},
     "output_type": "execute_result"
    }
   ],
   "source": [
    "dfjl = pd.read_json('quoteresult.jl', lines=True)\n",
    "dfjl"
   ]
  },
  {
   "cell_type": "code",
   "execution_count": 11,
   "id": "43279bcc",
   "metadata": {},
   "outputs": [],
   "source": [
    "dfjson.to_pickle('quotejson.pickle')\n",
    "dfjl.to_pickle('quotejl.pickle')"
   ]
  },
  {
   "cell_type": "code",
   "execution_count": 12,
   "id": "1071112d",
   "metadata": {},
   "outputs": [
    {
     "name": "stdout",
     "output_type": "stream",
     "text": [
      "-rw-r--r--  1 mhapich  staff  5454 Sep 15 20:48 quotejl.pickle\r\n",
      "-rw-r--r--  1 mhapich  staff  5454 Sep 15 20:48 quotejson.pickle\r\n"
     ]
    }
   ],
   "source": [
    "ll *pickle"
   ]
  },
  {
   "cell_type": "code",
   "execution_count": null,
   "id": "3464e059",
   "metadata": {},
   "outputs": [],
   "source": []
  }
 ],
 "metadata": {
  "kernelspec": {
   "display_name": "Python 3 (ipykernel)",
   "language": "python",
   "name": "python3"
  },
  "language_info": {
   "codemirror_mode": {
    "name": "ipython",
    "version": 3
   },
   "file_extension": ".py",
   "mimetype": "text/x-python",
   "name": "python",
   "nbconvert_exporter": "python",
   "pygments_lexer": "ipython3",
   "version": "3.9.7"
  }
 },
 "nbformat": 4,
 "nbformat_minor": 5
}
